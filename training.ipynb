{
 "cells": [
  {
   "cell_type": "code",
   "execution_count": 1,
   "metadata": {},
   "outputs": [],
   "source": [
    "import numpy as np\n",
    "import matplotlib.pyplot as plt\n",
    "from models import VAE\n",
    "from MIDI import *"
   ]
  },
  {
   "cell_type": "code",
   "execution_count": 2,
   "metadata": {},
   "outputs": [],
   "source": [
    "latent_dim = 128\n",
    "arrdict_bars = np.load('data/output/magenta_full_23_12_64bpb_bars.npz', allow_pickle = True)\n",
    "arrdict_tracks = np.load('data/output/magenta_full_23_12_64bpb_tracks.npz', allow_pickle = True)\n",
    "\n",
    "#print(sorted([k for k in arrdict_tracks.keys()]))\n",
    "nd = arrdict_bars['notedict'].item()\n",
    "bars = arrdict_bars['bars']"
   ]
  },
  {
   "cell_type": "code",
   "execution_count": 3,
   "metadata": {},
   "outputs": [
    {
     "name": "stdout",
     "output_type": "stream",
     "text": [
      "Model: \"encoder\"\n",
      "__________________________________________________________________________________________________\n",
      "Layer (type)                    Output Shape         Param #     Connected to                     \n",
      "==================================================================================================\n",
      "encoder_input (InputLayer)      [(None, 64, 22)]     0                                            \n",
      "__________________________________________________________________________________________________\n",
      "reshape (Reshape)               (None, 64, 22, 1)    0           encoder_input[0][0]              \n",
      "__________________________________________________________________________________________________\n",
      "conv2d (Conv2D)                 (None, 64, 22, 128)  512         reshape[0][0]                    \n",
      "__________________________________________________________________________________________________\n",
      "max_pooling2d (MaxPooling2D)    (None, 32, 11, 128)  0           conv2d[0][0]                     \n",
      "__________________________________________________________________________________________________\n",
      "conv2d_1 (Conv2D)               (None, 32, 11, 128)  49280       max_pooling2d[0][0]              \n",
      "__________________________________________________________________________________________________\n",
      "max_pooling2d_1 (MaxPooling2D)  (None, 16, 5, 128)   0           conv2d_1[0][0]                   \n",
      "__________________________________________________________________________________________________\n",
      "flatten (Flatten)               (None, 10240)        0           max_pooling2d_1[0][0]            \n",
      "__________________________________________________________________________________________________\n",
      "z_log_var (Dense)               (None, 128)          1310848     flatten[0][0]                    \n",
      "__________________________________________________________________________________________________\n",
      "tf_op_layer_Exp (TensorFlowOpLa [(None, 128)]        0           z_log_var[0][0]                  \n",
      "__________________________________________________________________________________________________\n",
      "tf_op_layer_mul (TensorFlowOpLa [(None, 128)]        0           tf_op_layer_Exp[0][0]            \n",
      "__________________________________________________________________________________________________\n",
      "lambda (Lambda)                 (None, 128)          0           z_log_var[0][0]                  \n",
      "__________________________________________________________________________________________________\n",
      "z_mean (Dense)                  (None, 128)          1310848     flatten[0][0]                    \n",
      "__________________________________________________________________________________________________\n",
      "tf_op_layer_mul_1 (TensorFlowOp [(None, 128)]        0           tf_op_layer_mul[0][0]            \n",
      "                                                                 lambda[0][0]                     \n",
      "__________________________________________________________________________________________________\n",
      "tf_op_layer_add (TensorFlowOpLa [(None, 128)]        0           z_mean[0][0]                     \n",
      "                                                                 tf_op_layer_mul_1[0][0]          \n",
      "==================================================================================================\n",
      "Total params: 2,671,488\n",
      "Trainable params: 2,671,488\n",
      "Non-trainable params: 0\n",
      "__________________________________________________________________________________________________\n",
      "Model: \"decoder\"\n",
      "_________________________________________________________________\n",
      "Layer (type)                 Output Shape              Param #   \n",
      "=================================================================\n",
      "latent_input (InputLayer)    [(None, 128)]             0         \n",
      "_________________________________________________________________\n",
      "dense (Dense)                (None, 128)               16512     \n",
      "_________________________________________________________________\n",
      "dense_1 (Dense)              (None, 1408)              181632    \n",
      "_________________________________________________________________\n",
      "reshape_1 (Reshape)          (None, 64, 22)            0         \n",
      "=================================================================\n",
      "Total params: 198,144\n",
      "Trainable params: 198,144\n",
      "Non-trainable params: 0\n",
      "_________________________________________________________________\n",
      "WARNING:tensorflow:Output decoder missing from loss dictionary. We assume this was done on purpose. The fit and evaluate APIs will not be expecting any data to be passed to decoder.\n",
      "Model: \"VAE_DNN\"\n",
      "__________________________________________________________________________________________________\n",
      "Layer (type)                    Output Shape         Param #     Connected to                     \n",
      "==================================================================================================\n",
      "encoder_input (InputLayer)      [(None, 64, 22)]     0                                            \n",
      "__________________________________________________________________________________________________\n",
      "encoder (Model)                 [(None, 128), (None, 2671488     encoder_input[0][0]              \n",
      "__________________________________________________________________________________________________\n",
      "decoder (Model)                 (None, 64, 22)       198144      encoder[1][2]                    \n",
      "__________________________________________________________________________________________________\n",
      "tf_op_layer_add_1 (TensorFlowOp [(None, 128)]        0           encoder[1][1]                    \n",
      "__________________________________________________________________________________________________\n",
      "tf_op_layer_Square (TensorFlowO [(None, 128)]        0           encoder[1][0]                    \n",
      "__________________________________________________________________________________________________\n",
      "tf_op_layer_sub (TensorFlowOpLa [(None, 128)]        0           tf_op_layer_add_1[0][0]          \n",
      "                                                                 tf_op_layer_Square[0][0]         \n",
      "__________________________________________________________________________________________________\n",
      "tf_op_layer_Exp_1 (TensorFlowOp [(None, 128)]        0           encoder[1][1]                    \n",
      "__________________________________________________________________________________________________\n",
      "tf_op_layer_Reshape_3 (TensorFl [(None,)]            0           decoder[1][0]                    \n",
      "__________________________________________________________________________________________________\n",
      "tf_op_layer_Reshape_2 (TensorFl [(None,)]            0           encoder_input[0][0]              \n",
      "__________________________________________________________________________________________________\n",
      "tf_op_layer_sub_1 (TensorFlowOp [(None, 128)]        0           tf_op_layer_sub[0][0]            \n",
      "                                                                 tf_op_layer_Exp_1[0][0]          \n",
      "__________________________________________________________________________________________________\n",
      "tf_op_layer_SquaredDifference ( [(None,)]            0           tf_op_layer_Reshape_3[0][0]      \n",
      "                                                                 tf_op_layer_Reshape_2[0][0]      \n",
      "__________________________________________________________________________________________________\n",
      "tf_op_layer_Sum (TensorFlowOpLa [(None,)]            0           tf_op_layer_sub_1[0][0]          \n",
      "__________________________________________________________________________________________________\n",
      "tf_op_layer_Mean (TensorFlowOpL [()]                 0           tf_op_layer_SquaredDifference[0][\n",
      "__________________________________________________________________________________________________\n",
      "tf_op_layer_mul_2 (TensorFlowOp [(None,)]            0           tf_op_layer_Sum[0][0]            \n",
      "__________________________________________________________________________________________________\n",
      "tf_op_layer_mul_3 (TensorFlowOp [()]                 0           tf_op_layer_Mean[0][0]           \n",
      "__________________________________________________________________________________________________\n",
      "tf_op_layer_add_2 (TensorFlowOp [(None,)]            0           tf_op_layer_mul_2[0][0]          \n",
      "                                                                 tf_op_layer_mul_3[0][0]          \n",
      "__________________________________________________________________________________________________\n",
      "tf_op_layer_Mean_1 (TensorFlowO [()]                 0           tf_op_layer_add_2[0][0]          \n",
      "__________________________________________________________________________________________________\n",
      "add_loss (AddLoss)              ()                   0           tf_op_layer_Mean_1[0][0]         \n",
      "==================================================================================================\n",
      "Total params: 2,869,632\n",
      "Trainable params: 2,869,632\n",
      "Non-trainable params: 0\n",
      "__________________________________________________________________________________________________\n"
     ]
    }
   ],
   "source": [
    "vae = VAE(latent_dim, bars.shape[-2:], debug=True)"
   ]
  },
  {
   "cell_type": "code",
   "execution_count": 4,
   "metadata": {},
   "outputs": [
    {
     "name": "stdout",
     "output_type": "stream",
     "text": [
      "Train on 19525 samples, validate on 2170 samples\n",
      "Epoch 1/10\n",
      "19525/19525 [==============================] - 64s 3ms/sample - loss: 46.2442 - val_loss: 13.2954\n",
      "Epoch 2/10\n",
      "19525/19525 [==============================] - 64s 3ms/sample - loss: 9.9663 - val_loss: 11.7740\n",
      "Epoch 3/10\n",
      "19525/19525 [==============================] - 65s 3ms/sample - loss: 9.0575 - val_loss: 11.3608\n",
      "Epoch 4/10\n",
      "19525/19525 [==============================] - 65s 3ms/sample - loss: 8.6584 - val_loss: 11.1375\n",
      "Epoch 5/10\n",
      "19525/19525 [==============================] - 65s 3ms/sample - loss: 8.4117 - val_loss: 11.0959\n",
      "Epoch 6/10\n",
      "19525/19525 [==============================] - 65s 3ms/sample - loss: 8.2813 - val_loss: 10.7613\n",
      "Epoch 7/10\n",
      "19525/19525 [==============================] - 65s 3ms/sample - loss: 8.1379 - val_loss: 10.6308\n",
      "Epoch 8/10\n",
      "19525/19525 [==============================] - 67s 3ms/sample - loss: 8.0426 - val_loss: 10.8583\n",
      "Epoch 9/10\n",
      "19525/19525 [==============================] - 65s 3ms/sample - loss: 7.9269 - val_loss: 10.5321\n",
      "Epoch 10/10\n",
      "19525/19525 [==============================] - 66s 3ms/sample - loss: 7.8638 - val_loss: 10.3782\n"
     ]
    },
    {
     "data": {
      "text/plain": [
       "<matplotlib.legend.Legend at 0x7f8651a62d10>"
      ]
     },
     "execution_count": 4,
     "metadata": {},
     "output_type": "execute_result"
    },
    {
     "data": {
      "image/png": "[encoded data removed]",
      "text/plain": [
       "<Figure size 720x720 with 1 Axes>"
      ]
     },
     "metadata": {
      "needs_background": "light"
     },
     "output_type": "display_data"
    }
   ],
   "source": [
    "hist = vae.train(bars, 10, 200, validation_split=0.1)\n",
    "\n",
    "plt.figure(figsize = (10,10))\n",
    "for k in hist.history.keys():\n",
    "    plt.plot(hist.history[k], label = k)\n",
    "plt.legend()"
   ]
  },
  {
   "cell_type": "code",
   "execution_count": 5,
   "metadata": {},
   "outputs": [
    {
     "data": {
      "text/plain": [
       "(16, 64, 22)"
      ]
     },
     "execution_count": 5,
     "metadata": {},
     "output_type": "execute_result"
    }
   ],
   "source": [
    "song.shape"
   ]
  },
  {
   "cell_type": "code",
   "execution_count": 6,
   "metadata": {},
   "outputs": [
    {
     "data": {
      "text/plain": [
       "<matplotlib.image.AxesImage at 0x7f8650302b10>"
      ]
     },
     "execution_count": 6,
     "metadata": {},
     "output_type": "execute_result"
    },
    {
     "data": {
      "image/png": "[encoded data removed]",
      "text/plain": [
       "<Figure size 1080x432 with 2 Axes>"
      ]
     },
     "metadata": {
      "needs_background": "light"
     },
     "output_type": "display_data"
    }
   ],
   "source": [
    "song = arrdict_tracks['drum grooves_magenta_drummer1_eval_session_1_funk-groove1_138_beat_4-4.mid']\n",
    "song_pred = vae.VAE.predict(song)\n",
    "song_pred.shape\n",
    "writeBarArray(song_pred, 'data/dummy/test', nd)\n",
    "\n",
    "fig, axes = plt.subplots(2,1, figsize = (15,6))\n",
    "plt.gray()\n",
    "\n",
    "axes[0].imshow(1 - np.concatenate(song).T, aspect = 'auto')\n",
    "axes[1].imshow(1 - np.concatenate(song_pred).T, aspect = 'auto')"
   ]
  },
  {
   "cell_type": "code",
   "execution_count": 7,
   "metadata": {},
   "outputs": [],
   "source": []
  }
 ],
 "metadata": {
  "kernelspec": {
   "display_name": "Python 3",
   "language": "python",
   "name": "python3"
  },
  "language_info": {
   "codemirror_mode": {
    "name": "ipython",
    "version": 3
   },
   "file_extension": ".py",
   "mimetype": "text/x-python",
   "name": "python",
   "nbconvert_exporter": "python",
   "pygments_lexer": "ipython3",
   "version": "3.7.4"
  }
 },
 "nbformat": 4,
 "nbformat_minor": 4
}
