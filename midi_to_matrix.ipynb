{
 "cells": [
  {
   "cell_type": "code",
   "execution_count": 2,
   "metadata": {},
   "outputs": [],
   "source": [
    "import numpy as np\n",
    "import tensorflow as tf\n",
    "import matplotlib.pyplot as plt\n",
    "from mido import MidiFile\n",
    "import os\n",
    "import os.path\n",
    "\n",
    "from MIDI import *"
   ]
  },
  {
   "cell_type": "code",
   "execution_count": 4,
   "metadata": {},
   "outputs": [
    {
     "name": "stdout",
     "output_type": "stream",
     "text": [
      "Analysing done!                                                  \n",
      "Averagae Velocity: 38.221001757469246\n",
      "Parsing done!ocessing: data/dummy/10_soul-groove10_102_beat_4-4.mid                         \n",
      "Saving done!   data/output/\n",
      "\n"
     ]
    }
   ],
   "source": [
    "datadir = 'data/dummy'\n",
    "outdir = 'data/output/'\n",
    "resolution = 8\n",
    "\n",
    "dicts, _, _ = analyse_filepack(datadir)\n",
    "parseFolder(datadir, dicts, resolution, outdir, name = 'test')\n",
    "print()"
   ]
  }
 ],
 "metadata": {
  "kernelspec": {
   "display_name": "Python 3",
   "language": "python",
   "name": "python3"
  },
  "language_info": {
   "codemirror_mode": {
    "name": "ipython",
    "version": 3
   },
   "file_extension": ".py",
   "mimetype": "text/x-python",
   "name": "python",
   "nbconvert_exporter": "python",
   "pygments_lexer": "ipython3",
   "version": "3.7.4"
  }
 },
 "nbformat": 4,
 "nbformat_minor": 4
}
